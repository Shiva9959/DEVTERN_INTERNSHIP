{
  "nbformat": 4,
  "nbformat_minor": 0,
  "metadata": {
    "colab": {
      "provenance": [],
      "include_colab_link": true
    },
    "kernelspec": {
      "name": "python3",
      "display_name": "Python 3"
    },
    "language_info": {
      "name": "python"
    }
  },
  "cells": [
    {
      "cell_type": "markdown",
      "metadata": {
        "id": "view-in-github",
        "colab_type": "text"
      },
      "source": [
        "<a href=\"https://colab.research.google.com/github/Shiva9959/DEVTERN_INTERNSHIP/blob/main/shiva_Devtern_Task_1.ipynb\" target=\"_parent\"><img src=\"https://colab.research.google.com/assets/colab-badge.svg\" alt=\"Open In Colab\"/></a>"
      ]
    },
    {
      "cell_type": "code",
      "execution_count": null,
      "metadata": {
        "id": "RuBw5ZDvrvmL"
      },
      "outputs": [],
      "source": [
        "import pandas as pd\n",
        "import numpy as np\n",
        "from sklearn.feature_extraction.text import TfidfVectorizer\n",
        "from sklearn.model_selection import train_test_split\n",
        "from sklearn.linear_model import PassiveAggressiveClassifier\n",
        "from sklearn.metrics import accuracy_score, confusion_matrix, classification_report\n",
        "import itertools\n",
        "import seaborn as sns\n",
        "import matplotlib.pyplot as plt"
      ]
    },
    {
      "cell_type": "code",
      "source": [
        "news_data= pd.read_csv(\"/content/news.csv\",nrows=1500)\n",
        "news_data.tail(10)"
      ],
      "metadata": {
        "colab": {
          "base_uri": "https://localhost:8080/",
          "height": 363
        },
        "id": "AZJVVXg9rxiY",
        "outputId": "b1ebf98c-369e-450b-eb6e-5fad3d8076f7"
      },
      "execution_count": null,
      "outputs": [
        {
          "output_type": "execute_result",
          "data": {
            "text/plain": [
              "      Unnamed: 0                                              title  \\\n",
              "1490        6431  The Media Ignores the Good News On Climate Change   \n",
              "1491        3048          The NRA-ification of the Republican Party   \n",
              "1492        2697  University of Missouri, please immediately fir...   \n",
              "1493        4748  Trump &amp; Clinton Were Very Convincing...on ...   \n",
              "1494        9264  Meteor, space junk, rocket? Mysterious flash h...   \n",
              "1495         597  Democrats see map and math working to their ad...   \n",
              "1496         828  Hillary Clinton doesn't need to choose between...   \n",
              "1497        2951  Airstrikes Move To Syria, Target More Than Jus...   \n",
              "1498         416  Top US lawmakers strike deal to fast-track tra...   \n",
              "1499        5317  Leftist Hypocrisy On “Peace, Love, And Equalit...   \n",
              "\n",
              "                                                   text label  \n",
              "1490  By Rmuse on Thu, Oct 27th, 2016 at 10:36 am To...  FAKE  \n",
              "1491  The National Rifle Association, the all-powerf...  REAL  \n",
              "1492  To watch the video of photographer Tim Tai get...  REAL  \n",
              "1493  Let's pretend for a moment that the biggest he...  REAL  \n",
              "1494  Meteor, space junk, rocket? Mysterious flash h...  FAKE  \n",
              "1495  The Senate map is the Democrats’ friend in the...  REAL  \n",
              "1496  There's a creeping anxiety in the halls of som...  REAL  \n",
              "1497  Airstrikes Move To Syria, Target More Than Jus...  REAL  \n",
              "1498  Top congressional Republicans and Democrats sa...  REAL  \n",
              "1499  Pinterest \\nRobert Gehl reports that of all th...  FAKE  "
            ],
            "text/html": [
              "\n",
              "  <div id=\"df-8c04c3a7-2b80-41ca-a1fd-2f3071665e95\" class=\"colab-df-container\">\n",
              "    <div>\n",
              "<style scoped>\n",
              "    .dataframe tbody tr th:only-of-type {\n",
              "        vertical-align: middle;\n",
              "    }\n",
              "\n",
              "    .dataframe tbody tr th {\n",
              "        vertical-align: top;\n",
              "    }\n",
              "\n",
              "    .dataframe thead th {\n",
              "        text-align: right;\n",
              "    }\n",
              "</style>\n",
              "<table border=\"1\" class=\"dataframe\">\n",
              "  <thead>\n",
              "    <tr style=\"text-align: right;\">\n",
              "      <th></th>\n",
              "      <th>Unnamed: 0</th>\n",
              "      <th>title</th>\n",
              "      <th>text</th>\n",
              "      <th>label</th>\n",
              "    </tr>\n",
              "  </thead>\n",
              "  <tbody>\n",
              "    <tr>\n",
              "      <th>1490</th>\n",
              "      <td>6431</td>\n",
              "      <td>The Media Ignores the Good News On Climate Change</td>\n",
              "      <td>By Rmuse on Thu, Oct 27th, 2016 at 10:36 am To...</td>\n",
              "      <td>FAKE</td>\n",
              "    </tr>\n",
              "    <tr>\n",
              "      <th>1491</th>\n",
              "      <td>3048</td>\n",
              "      <td>The NRA-ification of the Republican Party</td>\n",
              "      <td>The National Rifle Association, the all-powerf...</td>\n",
              "      <td>REAL</td>\n",
              "    </tr>\n",
              "    <tr>\n",
              "      <th>1492</th>\n",
              "      <td>2697</td>\n",
              "      <td>University of Missouri, please immediately fir...</td>\n",
              "      <td>To watch the video of photographer Tim Tai get...</td>\n",
              "      <td>REAL</td>\n",
              "    </tr>\n",
              "    <tr>\n",
              "      <th>1493</th>\n",
              "      <td>4748</td>\n",
              "      <td>Trump &amp;amp; Clinton Were Very Convincing...on ...</td>\n",
              "      <td>Let's pretend for a moment that the biggest he...</td>\n",
              "      <td>REAL</td>\n",
              "    </tr>\n",
              "    <tr>\n",
              "      <th>1494</th>\n",
              "      <td>9264</td>\n",
              "      <td>Meteor, space junk, rocket? Mysterious flash h...</td>\n",
              "      <td>Meteor, space junk, rocket? Mysterious flash h...</td>\n",
              "      <td>FAKE</td>\n",
              "    </tr>\n",
              "    <tr>\n",
              "      <th>1495</th>\n",
              "      <td>597</td>\n",
              "      <td>Democrats see map and math working to their ad...</td>\n",
              "      <td>The Senate map is the Democrats’ friend in the...</td>\n",
              "      <td>REAL</td>\n",
              "    </tr>\n",
              "    <tr>\n",
              "      <th>1496</th>\n",
              "      <td>828</td>\n",
              "      <td>Hillary Clinton doesn't need to choose between...</td>\n",
              "      <td>There's a creeping anxiety in the halls of som...</td>\n",
              "      <td>REAL</td>\n",
              "    </tr>\n",
              "    <tr>\n",
              "      <th>1497</th>\n",
              "      <td>2951</td>\n",
              "      <td>Airstrikes Move To Syria, Target More Than Jus...</td>\n",
              "      <td>Airstrikes Move To Syria, Target More Than Jus...</td>\n",
              "      <td>REAL</td>\n",
              "    </tr>\n",
              "    <tr>\n",
              "      <th>1498</th>\n",
              "      <td>416</td>\n",
              "      <td>Top US lawmakers strike deal to fast-track tra...</td>\n",
              "      <td>Top congressional Republicans and Democrats sa...</td>\n",
              "      <td>REAL</td>\n",
              "    </tr>\n",
              "    <tr>\n",
              "      <th>1499</th>\n",
              "      <td>5317</td>\n",
              "      <td>Leftist Hypocrisy On “Peace, Love, And Equalit...</td>\n",
              "      <td>Pinterest \\nRobert Gehl reports that of all th...</td>\n",
              "      <td>FAKE</td>\n",
              "    </tr>\n",
              "  </tbody>\n",
              "</table>\n",
              "</div>\n",
              "    <div class=\"colab-df-buttons\">\n",
              "\n",
              "  <div class=\"colab-df-container\">\n",
              "    <button class=\"colab-df-convert\" onclick=\"convertToInteractive('df-8c04c3a7-2b80-41ca-a1fd-2f3071665e95')\"\n",
              "            title=\"Convert this dataframe to an interactive table.\"\n",
              "            style=\"display:none;\">\n",
              "\n",
              "  <svg xmlns=\"http://www.w3.org/2000/svg\" height=\"24px\" viewBox=\"0 -960 960 960\">\n",
              "    <path d=\"M120-120v-720h720v720H120Zm60-500h600v-160H180v160Zm220 220h160v-160H400v160Zm0 220h160v-160H400v160ZM180-400h160v-160H180v160Zm440 0h160v-160H620v160ZM180-180h160v-160H180v160Zm440 0h160v-160H620v160Z\"/>\n",
              "  </svg>\n",
              "    </button>\n",
              "\n",
              "  <style>\n",
              "    .colab-df-container {\n",
              "      display:flex;\n",
              "      gap: 12px;\n",
              "    }\n",
              "\n",
              "    .colab-df-convert {\n",
              "      background-color: #E8F0FE;\n",
              "      border: none;\n",
              "      border-radius: 50%;\n",
              "      cursor: pointer;\n",
              "      display: none;\n",
              "      fill: #1967D2;\n",
              "      height: 32px;\n",
              "      padding: 0 0 0 0;\n",
              "      width: 32px;\n",
              "    }\n",
              "\n",
              "    .colab-df-convert:hover {\n",
              "      background-color: #E2EBFA;\n",
              "      box-shadow: 0px 1px 2px rgba(60, 64, 67, 0.3), 0px 1px 3px 1px rgba(60, 64, 67, 0.15);\n",
              "      fill: #174EA6;\n",
              "    }\n",
              "\n",
              "    .colab-df-buttons div {\n",
              "      margin-bottom: 4px;\n",
              "    }\n",
              "\n",
              "    [theme=dark] .colab-df-convert {\n",
              "      background-color: #3B4455;\n",
              "      fill: #D2E3FC;\n",
              "    }\n",
              "\n",
              "    [theme=dark] .colab-df-convert:hover {\n",
              "      background-color: #434B5C;\n",
              "      box-shadow: 0px 1px 3px 1px rgba(0, 0, 0, 0.15);\n",
              "      filter: drop-shadow(0px 1px 2px rgba(0, 0, 0, 0.3));\n",
              "      fill: #FFFFFF;\n",
              "    }\n",
              "  </style>\n",
              "\n",
              "    <script>\n",
              "      const buttonEl =\n",
              "        document.querySelector('#df-8c04c3a7-2b80-41ca-a1fd-2f3071665e95 button.colab-df-convert');\n",
              "      buttonEl.style.display =\n",
              "        google.colab.kernel.accessAllowed ? 'block' : 'none';\n",
              "\n",
              "      async function convertToInteractive(key) {\n",
              "        const element = document.querySelector('#df-8c04c3a7-2b80-41ca-a1fd-2f3071665e95');\n",
              "        const dataTable =\n",
              "          await google.colab.kernel.invokeFunction('convertToInteractive',\n",
              "                                                    [key], {});\n",
              "        if (!dataTable) return;\n",
              "\n",
              "        const docLinkHtml = 'Like what you see? Visit the ' +\n",
              "          '<a target=\"_blank\" href=https://colab.research.google.com/notebooks/data_table.ipynb>data table notebook</a>'\n",
              "          + ' to learn more about interactive tables.';\n",
              "        element.innerHTML = '';\n",
              "        dataTable['output_type'] = 'display_data';\n",
              "        await google.colab.output.renderOutput(dataTable, element);\n",
              "        const docLink = document.createElement('div');\n",
              "        docLink.innerHTML = docLinkHtml;\n",
              "        element.appendChild(docLink);\n",
              "      }\n",
              "    </script>\n",
              "  </div>\n",
              "\n",
              "\n",
              "<div id=\"df-73dd72c3-0a28-4a09-b4d5-969a59040039\">\n",
              "  <button class=\"colab-df-quickchart\" onclick=\"quickchart('df-73dd72c3-0a28-4a09-b4d5-969a59040039')\"\n",
              "            title=\"Suggest charts\"\n",
              "            style=\"display:none;\">\n",
              "\n",
              "<svg xmlns=\"http://www.w3.org/2000/svg\" height=\"24px\"viewBox=\"0 0 24 24\"\n",
              "     width=\"24px\">\n",
              "    <g>\n",
              "        <path d=\"M19 3H5c-1.1 0-2 .9-2 2v14c0 1.1.9 2 2 2h14c1.1 0 2-.9 2-2V5c0-1.1-.9-2-2-2zM9 17H7v-7h2v7zm4 0h-2V7h2v10zm4 0h-2v-4h2v4z\"/>\n",
              "    </g>\n",
              "</svg>\n",
              "  </button>\n",
              "\n",
              "<style>\n",
              "  .colab-df-quickchart {\n",
              "      --bg-color: #E8F0FE;\n",
              "      --fill-color: #1967D2;\n",
              "      --hover-bg-color: #E2EBFA;\n",
              "      --hover-fill-color: #174EA6;\n",
              "      --disabled-fill-color: #AAA;\n",
              "      --disabled-bg-color: #DDD;\n",
              "  }\n",
              "\n",
              "  [theme=dark] .colab-df-quickchart {\n",
              "      --bg-color: #3B4455;\n",
              "      --fill-color: #D2E3FC;\n",
              "      --hover-bg-color: #434B5C;\n",
              "      --hover-fill-color: #FFFFFF;\n",
              "      --disabled-bg-color: #3B4455;\n",
              "      --disabled-fill-color: #666;\n",
              "  }\n",
              "\n",
              "  .colab-df-quickchart {\n",
              "    background-color: var(--bg-color);\n",
              "    border: none;\n",
              "    border-radius: 50%;\n",
              "    cursor: pointer;\n",
              "    display: none;\n",
              "    fill: var(--fill-color);\n",
              "    height: 32px;\n",
              "    padding: 0;\n",
              "    width: 32px;\n",
              "  }\n",
              "\n",
              "  .colab-df-quickchart:hover {\n",
              "    background-color: var(--hover-bg-color);\n",
              "    box-shadow: 0 1px 2px rgba(60, 64, 67, 0.3), 0 1px 3px 1px rgba(60, 64, 67, 0.15);\n",
              "    fill: var(--button-hover-fill-color);\n",
              "  }\n",
              "\n",
              "  .colab-df-quickchart-complete:disabled,\n",
              "  .colab-df-quickchart-complete:disabled:hover {\n",
              "    background-color: var(--disabled-bg-color);\n",
              "    fill: var(--disabled-fill-color);\n",
              "    box-shadow: none;\n",
              "  }\n",
              "\n",
              "  .colab-df-spinner {\n",
              "    border: 2px solid var(--fill-color);\n",
              "    border-color: transparent;\n",
              "    border-bottom-color: var(--fill-color);\n",
              "    animation:\n",
              "      spin 1s steps(1) infinite;\n",
              "  }\n",
              "\n",
              "  @keyframes spin {\n",
              "    0% {\n",
              "      border-color: transparent;\n",
              "      border-bottom-color: var(--fill-color);\n",
              "      border-left-color: var(--fill-color);\n",
              "    }\n",
              "    20% {\n",
              "      border-color: transparent;\n",
              "      border-left-color: var(--fill-color);\n",
              "      border-top-color: var(--fill-color);\n",
              "    }\n",
              "    30% {\n",
              "      border-color: transparent;\n",
              "      border-left-color: var(--fill-color);\n",
              "      border-top-color: var(--fill-color);\n",
              "      border-right-color: var(--fill-color);\n",
              "    }\n",
              "    40% {\n",
              "      border-color: transparent;\n",
              "      border-right-color: var(--fill-color);\n",
              "      border-top-color: var(--fill-color);\n",
              "    }\n",
              "    60% {\n",
              "      border-color: transparent;\n",
              "      border-right-color: var(--fill-color);\n",
              "    }\n",
              "    80% {\n",
              "      border-color: transparent;\n",
              "      border-right-color: var(--fill-color);\n",
              "      border-bottom-color: var(--fill-color);\n",
              "    }\n",
              "    90% {\n",
              "      border-color: transparent;\n",
              "      border-bottom-color: var(--fill-color);\n",
              "    }\n",
              "  }\n",
              "</style>\n",
              "\n",
              "  <script>\n",
              "    async function quickchart(key) {\n",
              "      const quickchartButtonEl =\n",
              "        document.querySelector('#' + key + ' button');\n",
              "      quickchartButtonEl.disabled = true;  // To prevent multiple clicks.\n",
              "      quickchartButtonEl.classList.add('colab-df-spinner');\n",
              "      try {\n",
              "        const charts = await google.colab.kernel.invokeFunction(\n",
              "            'suggestCharts', [key], {});\n",
              "      } catch (error) {\n",
              "        console.error('Error during call to suggestCharts:', error);\n",
              "      }\n",
              "      quickchartButtonEl.classList.remove('colab-df-spinner');\n",
              "      quickchartButtonEl.classList.add('colab-df-quickchart-complete');\n",
              "    }\n",
              "    (() => {\n",
              "      let quickchartButtonEl =\n",
              "        document.querySelector('#df-73dd72c3-0a28-4a09-b4d5-969a59040039 button');\n",
              "      quickchartButtonEl.style.display =\n",
              "        google.colab.kernel.accessAllowed ? 'block' : 'none';\n",
              "    })();\n",
              "  </script>\n",
              "</div>\n",
              "\n",
              "    </div>\n",
              "  </div>\n"
            ],
            "application/vnd.google.colaboratory.intrinsic+json": {
              "type": "dataframe",
              "summary": "{\n  \"name\": \"news_data\",\n  \"rows\": 10,\n  \"fields\": [\n    {\n      \"column\": \"Unnamed: 0\",\n      \"properties\": {\n        \"dtype\": \"number\",\n        \"std\": 2842,\n        \"min\": 416,\n        \"max\": 9264,\n        \"num_unique_values\": 10,\n        \"samples\": [\n          416,\n          3048,\n          597\n        ],\n        \"semantic_type\": \"\",\n        \"description\": \"\"\n      }\n    },\n    {\n      \"column\": \"title\",\n      \"properties\": {\n        \"dtype\": \"string\",\n        \"num_unique_values\": 10,\n        \"samples\": [\n          \"Top US lawmakers strike deal to fast-track trade deals\",\n          \"The NRA-ification of the Republican Party\",\n          \"Democrats see map and math working to their advantage in 2016 Senate races\"\n        ],\n        \"semantic_type\": \"\",\n        \"description\": \"\"\n      }\n    },\n    {\n      \"column\": \"text\",\n      \"properties\": {\n        \"dtype\": \"string\",\n        \"num_unique_values\": 10,\n        \"samples\": [\n          \"Top congressional Republicans and Democrats say they've reached a deal to allow President Obama to negotiate trade deals subject to an up-or-down vote from Congress.\\n\\nThe \\\"fast-track\\\" legislation comes as Obama seeks a sweeping trade deal with 11 Pacific nations. It would renew presidential authority to present trade deals that Congress can endorse or reject, but not amend.\\n\\nThe Trans-Pacific Partnership proposes a trade agreement involving the United States, Japan, Vietnam, Canada, Mexico and seven other Pacific-rim nations.\\n\\nLabor unions and others say the Pacific pact would hurt U.S. job growth and encourage other countries to abuse workers and the environment. The Obama administration rejects those claims, and says U.S. goods and services must have greater access to foreign buyers.\\n\\n\",\n          \"The National Rifle Association, the all-powerful guardian of Americans' gun rights and driving force of America's pro-gun policies, is arguably more influential\\u00a0than ever.\\n\\nIt has largely dominated and\\u00a0pretty much won\\u00a0the modern-day gun-control war. It has\\u00a0wielded its dollars and\\u00a0political influence over lawmakers in both parties to\\u00a0ensure Congress doesn't pass even a limited\\u00a0(and polls show, popular) expansion of gun-control laws such as universal\\u00a0background checks. And it has withstood the charge even as the country deals with an average mass shooting a day in 2015.\\n\\nIt's now safe to say the NRA is\\u00a0one of the most powerful lobbying organizations of all time.\\u00a0And according to the latest Pew Research poll, Republicans are overwhelming in favor of that.\\n\\nThe\\u00a0survey taken July 14-20 on gun rights found that just 13 percent of Republicans think the NRA has too much influence.\\n\\nAnd that's actually down -- significantly -- from 2000, when 32 percent of Republicans (one in three!) thought the NRA had too much sway.\\n\\nAs you can see from the chart above, Democrats disagree with Republicans on the NRA wholeheartedly. And they are moving in the other direction.\\n\\nThat partisan split could provide a hint as to why\\u00a0Republicans are so united\\u00a0today behind the\\u00a0NRA. Some of\\u00a0America's biggest social-issue shifts\\u00a0have been driven by motives other than ideology; young people regardless of party have buoyed\\u00a0America's increasing tolerance of same-sex marriage and marijuana legalization, for example.\\n\\nGun rights, by contrast, have\\u00a0magnetized Americans toward the political poles. So Republicans might\\u00a0be naturally lining up with the more conservative factions in their party on everything from gun rights to immigration.\\n\\n[The sad reality of how we feel about mass shootings, in 3 charts]\\n\\nBut Republicans\\u00a0also have a fairly complex relationship with gun laws. And in fact, the shift described above might undersell it.\\n\\nWitness their\\u00a0changes over time\\u00a0on the idea of protecting gun ownership versus controlling it. Republicans' lines are much squigglier\\u00a0than Democrats. But the trend among Republicans since 2008 is clear as day: gun rights over gun control. What was an even split seven years ago is now a 3-to-1 edge\\u00a0in favor of\\u00a0gun rights.\\n\\nWhat's more, Republicans are arguably\\u00a0at odds with the NRA on several basic issues, such as whether to expand background checks (according to Pew,\\u00a079 percent\\u00a0of Republicans say yes; the NRA says no) and to expand laws keeping guns out of the hands of the mentally ill (79 percent\\u00a0of Republicans say yes; the NRA says we should focus on treating mental health issues instead).\\n\\nFor a deeper explanation of\\u00a0Republicans' position on the NRA, we\\u00a0should go back\\u00a0to when the organization was last under attack: the Clinton years. Gun laws were a major issue for Bill Clinton, and at the time, Pew writes,\\u00a0his campaign to limit the NRA's influence had broad support.\\n\\nClinton spent\\u00a0a\\u00a0lot of political capital to actually pass legislation limiting gun rights -- something no president has done since. In\\u00a01993, Congress passed the Brady Bill requiring federal background checks\\u00a0for purchases from federally licensed gun dealers. One year later, Clinton\\u00a0signed into law a\\u00a0crime bill that included a ban on assault weapons.\\n\\nGun-control supporters paid a significant\\u00a0political price for his success. The NRA mobilized its members -- who studies\\u00a0have shown to be more politically active than gun-control-supporting proponents -- and in 1994 ousted many Congress members who voted for the two bills.\\n\\nIt seems Republicans have been coalescing in greater numbers around the NRA ever since -- though particularly in the Obama years -- partly driven by our country's increased political polarization.\\n\\nAs this latest survey on gun rights shows, in\\u00a0the gun debate, the NRA is still king.\",\n          \"The Senate map is the Democrats\\u2019 friend in the 2016 cycle. They are defending only 10 seats, while Republicans have two dozen to hold. But wait, it gets better. Seven of those 24 Republican seats are in states that President Obama won not once but twice: Florida, Illinois, Iowa, New Hampshire, Ohio, Pennsylvania and Wisconsin.\\n\\nTo win the majority, Democrats need to win five of those seven seats in November 2016. (If Hillary Clinton, or another Democrat, wins the White House in 2016, then Senate Democrats need to win only four of those seven.) That\\u2019s the exact path Republicans took to the Senate majority in 2014 when, needing a six-seat gain, they won all six of the Democratic-held seats \\u2014 Alaska, Arkansas, Louisiana, Montana, South Dakota and West Virginia \\u2014 that Mitt Romney carried in 2012. (Republicans also won two states \\u2014 Iowa and Colorado \\u2014 that Obama carried twice, and one \\u2014 North Carolina \\u2014 that Obama won in 2008 and Romney won in 2012.)\\n\\nOf course, 2014 was a historically good year for Senate Republicans. The last time the party won more than nine seats in a midterm election was 1994, when it scored 10. Prior to 1994, you have to go back to 1946, when Republicans netted 12 seats.\\n\\nAnd while the map looks great for Democrats on paper, several of those seven races look less rosy in reality. Iowa is a tough Democratic pickup unless Sen. Charles E. Grassley\\u00a0(R) decides to retire, which he insists he isn\\u2019t going to do. Ohio Sen. Rob Portman\\u00a0(R) is a gifted politician and fundraiser, while the Democratic bench in the state is decidedly thin. The Democratic fields in New Hampshire, Florida and Illinois are still quite muddled. And neither Sens. Patrick J. Toomey (R-Pa.) nor Ron Johnson (R-Wis.) are political dead men walking.\\n\\nThere are also two genuinely vulnerable Democrats \\u2014 Sens. Harry M. Reid (Nev.) and Michael F. Bennet (Colo.) \\u2014 on the ballot in 2016.\\n\\nStill, as the 2014 election revealed, the map and the math are huge factors in the battle for the Senate. Both are on Democrats\\u2019 side this time around.\\n\\nBelow are the 10 most competitive Senate contests on the ballot in 2016. The No.\\u00a01\\u00ad-ranked race is the most likely to switch parties in 2016.\\n\\n10. Kentucky (Republican-controlled). Sen. Rand Paul (R) is staffing, as expected, for a presidential run next year. Paul still has to figure out how he\\u2019s going to run for president and hold his Senate seat if that former race doesn\\u2019t work out. His opponent in that effort could be none other than 2014 Senate nominee Alison Lundergan Grimes, given her role as Kentucky\\u2019s chief elections officer.\\n\\n9. Ohio (R). This may be the swing state at the presidential level. But Portman isn\\u2019t seen as particularly vulnerable in 2016. A lot of that is because he banked $5.8 million by the end of 2014. Another big reason is that Democrats have a slim bench in Ohio. Among the names mentioned are Cincinnati Councilman P.G. Sittenfeld, former governor Ted Strickland, former congresswoman Betty Sutton and Rep. Tim Ryan.\\n\\n8. Florida (R). Whither Marco Rubio? The Florida senator could be the odd man out in the presidential race, with fellow Floridian Jeb Bush and other establishment-friendly candidates such as Mitt Romney and Chris Christie in the mix. Consider this: Rubio is just 43 years old, and he\\u2019s got his 2016 reelection campaign to worry about. Perhaps it\\u2019s better to focus on staying in the Senate and waiting for the next opportunity.\\n\\n7. New Hampshire (R). The question here is what Gov. Maggie Hassan (D) does. Democrats think there\\u2019s a decent chance she will run against Sen. Kelly Ayotte (R), but a New England College poll showed Ayotte leading that matchup by five points.\\n\\n6. Colorado (Democratic-controlled). No one thought Bennet would even be in the Senate in 2016. After being appointed as an unknown in 2009, he ran a perfect campaign in 2010 and benefited from the fact that his Republican opponent was, well, not very good. Given Colorado\\u2019s swinginess, Bennet will be a major Republican target again. But whom will Republicans put forward? Rep. Mike Coffman and newly elected state Attorney General Cynthia Coffman are mentioned \\u2014 they\\u2019re married \\u2014 as is Rep. Scott R. Tipton.\\n\\n5. North Carolina (R). Sen. Richard Burr (R) isn\\u2019t doing much to inspire confidence in Republicans about his future plans. His fundraising is weak \\u2014 $720,000 on hand as of the end of September \\u2014 and rumors continue to swirl about him not running again in 2016. (Burr has said he plans to run.) If Democrats can persuade former senator Kay Hagan (D) to run, this race moves up on our rankings. But even if they don\\u2019t, it\\u2019s hard to see this not being a very competitive race in a presidential year.\\n\\n4. Pennsylvania (R). Attorney General Kathleen Kane (D) was once the Democrats\\u2019 dream opponent for Toomey. She now faces potential criminal charges for allegedly violating the secrecy of a grand jury. The Democratic establishment does not want 2010 nominee and former congressman Joe Sestak as its nominee, but Sestak is pretty gung-ho about running again.\\n\\n3. Illinois (R). State Attorney General Lisa Madigan is the Democrats\\u2019 first choice to take on Sen. Mark Kirk (R). But she has passed up so many winnable races for higher office that it\\u2019s hard to see why she would run this time. If not Madigan, then Democrats will turn to Rep. Tammy Duckworth or Rep. Bill Foster. Kirk is an excellent fundraiser and knows the seriousness of the challenge he faces. Much depends on the top of the ticket; if the Democratic presidential nominee wins Illinois by 15 points (Obama carried it by 17 points), then it\\u2019s hard to see a path to victory for Kirk.\\n\\n2. Nevada (D). Reid got knocked down \\u2014 hard \\u2014 while working out at his home in Nevada. He got so banged up that he missed the first days of Congress and might not regain vision in his right eye. He said it won\\u2019t affect his reelection decision. The bigger question is what Gov. Brian Sandoval (R) does. Does he wait for Reid to decide whether to seek reelection? Force his hand? This is a big question in a race Republicans would love to win to stem possible losses elsewhere. Meanwhile, former lieutenant governor Brian Krolicki, who blames Reid for a 2008 indictment that Krolicki later beat, is considering running.\\n\\n1. Wisconsin (R). Johnson seems unaware that he won a Democratic-leaning (at the federal level) state in 2010. He had the ninth most conservative record in the Senate, according to National Journal\\u2019s 2013 vote ratings. Democrats are banking on former senator Russell Feingold, who lost to Johnson in 2010, running for his old seat. If Feingold does run, he\\u2019ll have to put forth a much better campaign than he did five years ago. If he doesn\\u2019t, expect Rep. Ron Kind, who has been itching to run statewide for as long as we can remember, to leap into the race.\"\n        ],\n        \"semantic_type\": \"\",\n        \"description\": \"\"\n      }\n    },\n    {\n      \"column\": \"label\",\n      \"properties\": {\n        \"dtype\": \"category\",\n        \"num_unique_values\": 2,\n        \"samples\": [\n          \"REAL\",\n          \"FAKE\"\n        ],\n        \"semantic_type\": \"\",\n        \"description\": \"\"\n      }\n    }\n  ]\n}"
            }
          },
          "metadata": {},
          "execution_count": 5
        }
      ]
    },
    {
      "cell_type": "code",
      "source": [
        "news_data.info()"
      ],
      "metadata": {
        "colab": {
          "base_uri": "https://localhost:8080/"
        },
        "id": "lxk6Qu3TtMU4",
        "outputId": "0cb65aa0-fe23-48e0-f3e1-2aa0bea9c3fb"
      },
      "execution_count": null,
      "outputs": [
        {
          "output_type": "stream",
          "name": "stdout",
          "text": [
            "<class 'pandas.core.frame.DataFrame'>\n",
            "RangeIndex: 1500 entries, 0 to 1499\n",
            "Data columns (total 4 columns):\n",
            " #   Column      Non-Null Count  Dtype \n",
            "---  ------      --------------  ----- \n",
            " 0   Unnamed: 0  1500 non-null   int64 \n",
            " 1   title       1500 non-null   object\n",
            " 2   text        1500 non-null   object\n",
            " 3   label       1500 non-null   object\n",
            "dtypes: int64(1), object(3)\n",
            "memory usage: 47.0+ KB\n"
          ]
        }
      ]
    },
    {
      "cell_type": "code",
      "source": [
        "news_data.shape"
      ],
      "metadata": {
        "colab": {
          "base_uri": "https://localhost:8080/"
        },
        "id": "JLninMfqtN0j",
        "outputId": "3aca3671-46a8-4812-fb99-f93dfdd35cd8"
      },
      "execution_count": null,
      "outputs": [
        {
          "output_type": "execute_result",
          "data": {
            "text/plain": [
              "(1500, 4)"
            ]
          },
          "metadata": {},
          "execution_count": 7
        }
      ]
    },
    {
      "cell_type": "code",
      "source": [
        "news_data[\"label\"].value_counts()"
      ],
      "metadata": {
        "colab": {
          "base_uri": "https://localhost:8080/"
        },
        "id": "E9Ej8lMmtShY",
        "outputId": "303a0b21-cbf6-4117-bbfa-b10681ca669d"
      },
      "execution_count": null,
      "outputs": [
        {
          "output_type": "execute_result",
          "data": {
            "text/plain": [
              "label\n",
              "FAKE    754\n",
              "REAL    746\n",
              "Name: count, dtype: int64"
            ]
          },
          "metadata": {},
          "execution_count": 8
        }
      ]
    },
    {
      "cell_type": "code",
      "source": [
        "labels= news_data.label\n",
        "labels.tail(10)"
      ],
      "metadata": {
        "colab": {
          "base_uri": "https://localhost:8080/"
        },
        "id": "BUi9VChNta0k",
        "outputId": "04063fa9-4393-439f-e356-77383d50bec6"
      },
      "execution_count": null,
      "outputs": [
        {
          "output_type": "execute_result",
          "data": {
            "text/plain": [
              "1490    FAKE\n",
              "1491    REAL\n",
              "1492    REAL\n",
              "1493    REAL\n",
              "1494    FAKE\n",
              "1495    REAL\n",
              "1496    REAL\n",
              "1497    REAL\n",
              "1498    REAL\n",
              "1499    FAKE\n",
              "Name: label, dtype: object"
            ]
          },
          "metadata": {},
          "execution_count": 9
        }
      ]
    },
    {
      "cell_type": "code",
      "source": [
        "#First, we split the dataset into train & test samples:\n",
        "x_train, x_test, y_train, y_test= train_test_split(news_data[\"text\"], labels, test_size= 0.2, random_state= 7)"
      ],
      "metadata": {
        "id": "OQTl6FKxtf_D"
      },
      "execution_count": null,
      "outputs": []
    },
    {
      "cell_type": "code",
      "source": [
        "#Then we’ll initialize TfidfVectorizer with English stop words\n",
        "vectorizer=TfidfVectorizer(stop_words='english', max_df=0.7)\n",
        "tfidf_train=vectorizer.fit_transform(x_train)\n",
        "tfidf_test=vectorizer.transform(x_test)"
      ],
      "metadata": {
        "id": "yMRzzvARtkxC"
      },
      "execution_count": null,
      "outputs": []
    },
    {
      "cell_type": "code",
      "source": [
        "#Create a PassiveAggressiveClassifier\n",
        "passive=PassiveAggressiveClassifier(max_iter=50)\n",
        "passive.fit(tfidf_train,y_train)\n",
        "\n",
        "y_pred=passive.predict(tfidf_test)"
      ],
      "metadata": {
        "id": "EjOolwcZtu2F"
      },
      "execution_count": null,
      "outputs": []
    },
    {
      "cell_type": "code",
      "source": [
        "#Create a confusion matrix\n",
        "matrix= confusion_matrix(y_test,y_pred, labels=['FAKE','REAL'])\n",
        "matrix"
      ],
      "metadata": {
        "colab": {
          "base_uri": "https://localhost:8080/"
        },
        "id": "0ni8THPHtv6K",
        "outputId": "ec3ccbef-21f1-4b07-a831-aa91fc7545e9"
      },
      "execution_count": null,
      "outputs": [
        {
          "output_type": "execute_result",
          "data": {
            "text/plain": [
              "array([[152,  17],\n",
              "       [ 10, 121]])"
            ]
          },
          "metadata": {},
          "execution_count": 21
        }
      ]
    },
    {
      "cell_type": "code",
      "source": [
        "#Visualize the confusion matrix\n",
        "sns.heatmap(matrix, annot=True)\n",
        "plt.show()"
      ],
      "metadata": {
        "colab": {
          "base_uri": "https://localhost:8080/",
          "height": 430
        },
        "id": "5pEnjcJPt0Xp",
        "outputId": "e53c6802-ddb7-4a14-e77c-4a6b7a29b69d"
      },
      "execution_count": null,
      "outputs": [
        {
          "output_type": "display_data",
          "data": {
            "text/plain": [
              "<Figure size 640x480 with 2 Axes>"
            ],
            "image/png": "[encoded data removed]"
          },
          "metadata": {}
        }
      ]
    },
    {
      "cell_type": "code",
      "source": [
        "#Calculate the model's accuracy\n",
        "Accuracy=accuracy_score(y_test,y_pred)\n",
        "Accuracy*100"
      ],
      "metadata": {
        "colab": {
          "base_uri": "https://localhost:8080/"
        },
        "id": "G_Ao4PwAt75T",
        "outputId": "da0136c1-5f47-4362-9505-454891264b62"
      },
      "execution_count": null,
      "outputs": [
        {
          "output_type": "execute_result",
          "data": {
            "text/plain": [
              "91.0"
            ]
          },
          "metadata": {},
          "execution_count": 23
        }
      ]
    },
    {
      "cell_type": "code",
      "source": [
        "Report= classification_report(y_test, y_pred)\n",
        "print(Report)"
      ],
      "metadata": {
        "colab": {
          "base_uri": "https://localhost:8080/"
        },
        "id": "ePaNtWUmt9Md",
        "outputId": "beb137f9-bc43-4191-a1b5-f8663f2c4428"
      },
      "execution_count": null,
      "outputs": [
        {
          "output_type": "stream",
          "name": "stdout",
          "text": [
            "              precision    recall  f1-score   support\n",
            "\n",
            "        FAKE       0.94      0.90      0.92       169\n",
            "        REAL       0.88      0.92      0.90       131\n",
            "\n",
            "    accuracy                           0.91       300\n",
            "   macro avg       0.91      0.91      0.91       300\n",
            "weighted avg       0.91      0.91      0.91       300\n",
            "\n"
          ]
        }
      ]
    },
    {
      "cell_type": "code",
      "source": [],
      "metadata": {
        "id": "ryA7E0pWnN-1"
      },
      "execution_count": null,
      "outputs": []
    }
  ]
}